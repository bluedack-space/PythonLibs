{
 "cells": [
  {
   "cell_type": "code",
   "execution_count": 1,
   "metadata": {},
   "outputs": [
    {
     "name": "stdout",
     "output_type": "stream",
     "text": [
      "##Constructor forJupyterWidgetsFileUploader\n"
     ]
    },
    {
     "data": {
      "application/vnd.jupyter.widget-view+json": {
       "model_id": "96cc5b8249234faebc2ebb8996006d70",
       "version_major": 2,
       "version_minor": 0
      },
      "text/plain": [
       "FileUpload(value={}, description='Upload', multiple=True, style=ButtonStyle(button_color='lightgreen'))"
      ]
     },
     "metadata": {},
     "output_type": "display_data"
    }
   ],
   "source": [
    "from JupyterWidgetsFileUploader import *\n",
    "hdl = JupyterWidgetsFileUploader()\n",
    "s1  = hdl.getInstance(\"input.jpg\")\n",
    "s1"
   ]
  },
  {
   "cell_type": "code",
   "execution_count": 3,
   "metadata": {},
   "outputs": [
    {
     "name": "stdout",
     "output_type": "stream",
     "text": [
      "##Constructor forJupyterWidgetsSlider\n"
     ]
    },
    {
     "data": {
      "application/vnd.jupyter.widget-view+json": {
       "model_id": "a7889d0af34f487ab1d6af5eac54aa77",
       "version_major": 2,
       "version_minor": 0
      },
      "text/plain": [
       "HBox(children=(IntSlider(value=0, max=15),))"
      ]
     },
     "metadata": {},
     "output_type": "display_data"
    },
    {
     "data": {
      "application/vnd.jupyter.widget-view+json": {
       "model_id": "d835d0204ac144fdaa4b168702a4d3bb",
       "version_major": 2,
       "version_minor": 0
      },
      "text/plain": [
       "Output()"
      ]
     },
     "metadata": {},
     "output_type": "display_data"
    }
   ],
   "source": [
    "%matplotlib inline\n",
    "\n",
    "import cv2\n",
    "import numpy as np\n",
    "\n",
    "from ImageHandlerDisplay import *\n",
    "\n",
    "def onUpdate(value):\n",
    "    fileNameImage = 'input.jpg'\n",
    "    img           = cv2.imread(fileNameImage, cv2.IMREAD_COLOR)\n",
    "    kernel = np.ones((5,5),np.float32)/25\n",
    "    imgFlt = img\n",
    "    for n in range(value):\n",
    "        imgFlt = cv2.filter2D(imgFlt,-1,kernel)\n",
    "    ImageHandlerDisplay.displayImageByMatplotlib(imgFlt)\n",
    "\n",
    "from JupyterWidgetsSlider import *\n",
    "hdl = JupyterWidgetsSlider()\n",
    "s2  = hdl.getInstanceOfIntegerSlider(min=0,max=15,onUpdate=onUpdate)"
   ]
  }
 ],
 "metadata": {
  "kernelspec": {
   "display_name": "Python 3",
   "language": "python",
   "name": "python3"
  },
  "language_info": {
   "codemirror_mode": {
    "name": "ipython",
    "version": 3
   },
   "file_extension": ".py",
   "mimetype": "text/x-python",
   "name": "python",
   "nbconvert_exporter": "python",
   "pygments_lexer": "ipython3",
   "version": "3.7.4"
  }
 },
 "nbformat": 4,
 "nbformat_minor": 2
}
