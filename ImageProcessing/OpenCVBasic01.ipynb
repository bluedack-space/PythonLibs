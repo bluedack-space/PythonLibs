{
 "cells": [
  {
   "cell_type": "code",
   "execution_count": 9,
   "metadata": {},
   "outputs": [
    {
     "data": {
      "application/vnd.jupyter.widget-view+json": {
       "model_id": "265c8be883b74df5aca05f526b13ed50",
       "version_major": 2,
       "version_minor": 0
      },
      "text/plain": [
       "HBox(children=(IntSlider(value=0, max=15),))"
      ]
     },
     "metadata": {},
     "output_type": "display_data"
    },
    {
     "data": {
      "application/vnd.jupyter.widget-view+json": {
       "model_id": "1b58d409b12644f3a2680b6f25abfc9c",
       "version_major": 2,
       "version_minor": 0
      },
      "text/plain": [
       "Output()"
      ]
     },
     "metadata": {},
     "output_type": "display_data"
    }
   ],
   "source": [
    "%matplotlib inline\n",
    "from ipywidgets import IntSlider, HBox, interactive_output\n",
    "\n",
    "import cv2\n",
    "import numpy as np\n",
    "import random\n",
    "\n",
    "def displayImage(img,title=\"\"):\n",
    "    cv2.imshow(title, img)\n",
    "    cv2.waitKey(0)\n",
    "    cv2.destroyAllWindows()\n",
    "    \n",
    "def displayImageByMatplotlib(img,title=\"\"):\n",
    "    from PIL import Image\n",
    "    import matplotlib.pyplot as plt\n",
    "    import numpy as np\n",
    "    img = cv2.cvtColor(img, cv2.COLOR_BGR2RGB)\n",
    "    im_list = np.asarray(img)\n",
    "    plt.imshow(im_list)\n",
    "    plt.show()\n",
    "\n",
    "def onUpdate(nmax):\n",
    "    kernel = np.ones((5,5),np.float32)/25\n",
    "    imgFlt = img\n",
    "    for n in range(nmax):\n",
    "        imgFlt = cv2.filter2D(imgFlt,-1,kernel)\n",
    "    displayImageByMatplotlib(imgFlt)\n",
    "    \n",
    "fileNameImage = 'lava-hawaii.jpg'\n",
    "img           = cv2.imread(fileNameImage, cv2.IMREAD_COLOR)\n",
    "\n",
    "# Generate Slider Widget\n",
    "slider = IntSlider(min=0, max=15)\n",
    "ui     = HBox([slider])\n",
    "# Instance of Interactive Output\n",
    "out    = interactive_output(onUpdate, {'nmax': slider})\n",
    "display(ui, out)"
   ]
  },
  {
   "cell_type": "code",
   "execution_count": null,
   "metadata": {},
   "outputs": [],
   "source": []
  }
 ],
 "metadata": {
  "kernelspec": {
   "display_name": "Python 3",
   "language": "python",
   "name": "python3"
  },
  "language_info": {
   "codemirror_mode": {
    "name": "ipython",
    "version": 3
   },
   "file_extension": ".py",
   "mimetype": "text/x-python",
   "name": "python",
   "nbconvert_exporter": "python",
   "pygments_lexer": "ipython3",
   "version": "3.7.4"
  }
 },
 "nbformat": 4,
 "nbformat_minor": 2
}
